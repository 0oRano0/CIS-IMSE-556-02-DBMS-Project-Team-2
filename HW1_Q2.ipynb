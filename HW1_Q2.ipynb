{
  "nbformat": 4,
  "nbformat_minor": 0,
  "metadata": {
    "colab": {
      "provenance": [],
      "authorship_tag": "ABX9TyOHIt9TUIbpfB6qvIWdikcQ",
      "include_colab_link": true
    },
    "kernelspec": {
      "name": "python3",
      "display_name": "Python 3"
    },
    "language_info": {
      "name": "python"
    }
  },
  "cells": [
    {
      "cell_type": "markdown",
      "metadata": {
        "id": "view-in-github",
        "colab_type": "text"
      },
      "source": [
        "<a href=\"https://colab.research.google.com/github/0oRano0/CIS-IMSE-556-02-DBMS-Project-Team-2/blob/main/HW1_Q2.ipynb\" target=\"_parent\"><img src=\"https://colab.research.google.com/assets/colab-badge.svg\" alt=\"Open In Colab\"/></a>"
      ]
    },
    {
      "cell_type": "code",
      "execution_count": 10,
      "metadata": {
        "colab": {
          "base_uri": "https://localhost:8080/"
        },
        "id": "s_b5jaWZD--A",
        "outputId": "b37818d6-1b07-421d-c91d-9d2979afda1f"
      },
      "outputs": [
        {
          "output_type": "stream",
          "name": "stdout",
          "text": [
            "[[2, 4], [1, 3]] [[1], [3]] [[2], [3]]\n"
          ]
        }
      ],
      "source": [
        "# June10 2024RD - HW1 Q2\n",
        "\n",
        "# ---- Code------------\n",
        "\n",
        "# Matrix Assignment and Initialization\n",
        "\n",
        "X = [[2,4],\n",
        "    [1,3]]\n",
        "\n",
        "Y = [[1],[3]]\n",
        "\n",
        "Z = [[2],[3]]\n",
        "\n",
        "print(X,Y,Z)\n",
        "\n",
        "# Calcaulate Y_transpose * Z and X*y, and X^(-1)\n",
        "\n",
        "\n",
        "#Calcaulate X*y,\n",
        "\n",
        "#Calcaulate X^(-1)"
      ]
    }
  ]
}